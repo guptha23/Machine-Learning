{
 "cells": [
  {
   "cell_type": "markdown",
   "metadata": {},
   "source": [
    "<hr>\n",
    "\n",
    "# Question 1:\n",
    "\n",
    "Write a Python program to get the string from the given string where\n",
    " all the occurrence of its first char has been changed to '$,' except first\n",
    " char itself?\n",
    "\n",
    "<pre>\n",
    " Sample String: 'prospect'\n",
    " Expected Result : 'pros$ect'\n",
    "    \n",
    "</pre>\n",
    "\n",
    "<hr>"
   ]
  },
  {
   "cell_type": "code",
   "execution_count": 10,
   "metadata": {},
   "outputs": [
    {
     "name": "stdout",
     "output_type": "stream",
     "text": [
      "Enter the desired string : prospect\n",
      "Required output : pros$ect\n"
     ]
    }
   ],
   "source": [
    "string = input(\"Enter the desired string : \")\n",
    "\n",
    "\n",
    "req_string = (\"\").join(list(string[0]) + [x if x!=string[0] else \"$\" for x in string[1:]])\n",
    "\n",
    "print(f\"Required output : {req_string}\")"
   ]
  },
  {
   "cell_type": "markdown",
   "metadata": {},
   "source": [
    "<hr>\n",
    "\n",
    "# Question 2:\n",
    "\n",
    "Write a Python program to get the single string from the two given\n",
    " strings, and separated by the space and swap the first two characters of\n",
    " each string?\n",
    "\n",
    "<pre>\n",
    "Sample String : 'abc', 'xyz'. \n",
    "Expected Result: 'xyc abz'\n",
    "    \n",
    "</pre>\n",
    "\n",
    "<hr>"
   ]
  },
  {
   "cell_type": "code",
   "execution_count": 11,
   "metadata": {},
   "outputs": [
    {
     "name": "stdout",
     "output_type": "stream",
     "text": [
      "Enter the desired string : abc,xyz\n",
      "Required Result :\n",
      " str1 : xyc \t str2 : abz\n"
     ]
    }
   ],
   "source": [
    "str1, str2 = input(\"Enter the desired string : \").split(\",\")\n",
    "\n",
    "str1 , str2 = str2[:2] + str1[2], str1[:2] + str2[2]\n",
    "\n",
    "print(f\"Required Result :\\n str1 : {str1} \\t str2 : {str2}\")"
   ]
  },
  {
   "cell_type": "markdown",
   "metadata": {},
   "source": [
    "<hr>\n",
    "\n",
    "# Question 3:\n",
    "\n",
    "Write the Python program to add 'ing' at the end of the given string\n",
    "(length of the string should be at least 3). If given string already ends\n",
    "with 'ing,' then add 'ly' instead. If string length of the given string is less\n",
    "than 3, leave it unchanged?\n",
    "\n",
    "<pre>\n",
    "Sample string: ' abc '\n",
    "Expectedresult: 'abcing'\n",
    "Samplestring: 'string'\n",
    "Expectedresult: 'stringly'\n",
    "\n",
    "</pre>\n",
    "\n",
    "<hr>"
   ]
  },
  {
   "cell_type": "code",
   "execution_count": 13,
   "metadata": {},
   "outputs": [
    {
     "name": "stdout",
     "output_type": "stream",
     "text": [
      "Output :  ['abcing', 'stringly', 'k']\n"
     ]
    }
   ],
   "source": [
    "def modify_string(*args):\n",
    "    output_strs = list()\n",
    "    for arg in args:\n",
    "        if len(arg) >= 3 and arg[-3:] != \"ing\":\n",
    "            arg += \"ing\"\n",
    "            \n",
    "        elif len(arg) >= 3:\n",
    "            arg += \"ly\"\n",
    "            \n",
    "        output_strs.append(arg)\n",
    "        \n",
    "    return output_strs\n",
    "            \n",
    "print(\"Output : \",modify_string(\"abc\",\"string\",\"k\"))"
   ]
  },
  {
   "cell_type": "markdown",
   "metadata": {},
   "source": [
    "<hr>\n",
    "\n",
    "# Question 4:\n",
    "\n",
    "Write the Python program to find the first appearance of the\n",
    "substring 'not' and 'poor' from the given string, if 'not' follows the 'poor',\n",
    "replace the whole 'not'...' poor' substring with 'good'.Return the resulting\n",
    "string\n",
    "\n",
    "<pre>\n",
    "Sample string: 'The lyrics are not that poor!'\n",
    " 'The lyrics are poor!'\n",
    " Expected Result: 'The lyrics are good!'\n",
    " 'The lyrics are poor!'\n",
    "</pre>\n",
    "\n",
    "<hr>"
   ]
  },
  {
   "cell_type": "code",
   "execution_count": 16,
   "metadata": {},
   "outputs": [
    {
     "name": "stdout",
     "output_type": "stream",
     "text": [
      "Required output : ['The lyrics are that poor!', 'The lyrics are poor']\n"
     ]
    }
   ],
   "source": [
    "def modify_sentences(*args):\n",
    "    output_sentences = []\n",
    "    for arg in args:\n",
    "        # find returns -1 if not present.\n",
    "        # else returns index of first occurence\n",
    "        req_index_not = arg.find(\"not\")\n",
    "        req_index_poor = arg.find(\"poor\")\n",
    "        req_index_good = arg.find(\"good\")\n",
    "    \n",
    "        if  req_index_not != -1:\n",
    "            if len(arg) >= (req_index_not+4):\n",
    "                arg = arg[:req_index_not] + arg[(req_index_not+4):]\n",
    "            \n",
    "        if req_index_not == -1 and req_index_good != -1:\n",
    "            if len(arg) >= (req_index_good+5):\n",
    "                arg = arg[:req_index_good] + \"poor\" + arg[(req_index_good+5):]\n",
    "                \n",
    "        output_sentences.append(arg)\n",
    "        \n",
    "    return output_sentences\n",
    "            \n",
    "\n",
    "print(\"Required output :\",modify_sentences(\"The lyrics are not that poor!\",\"The lyrics are good!\"))\n"
   ]
  },
  {
   "cell_type": "markdown",
   "metadata": {},
   "source": [
    "<hr>\n",
    "\n",
    "# Question 5:\n",
    "\n",
    "Write the Python program to remove the characters which have odd\n",
    " index values of a given string.\n",
    "\n",
    "\n",
    "\n",
    "<hr>"
   ]
  },
  {
   "cell_type": "code",
   "execution_count": 19,
   "metadata": {},
   "outputs": [
    {
     "name": "stdout",
     "output_type": "stream",
     "text": [
      "Enter desired string : machine learning\n",
      "Output :  mcielann\n"
     ]
    }
   ],
   "source": [
    "string = input(\"Enter desired string : \")\n",
    "\n",
    "req_str = (\"\").join( [x for i,x in enumerate(string) if i % 2 == 0 ] )\n",
    "\n",
    "print(\"Output : \", req_str)"
   ]
  },
  {
   "cell_type": "markdown",
   "metadata": {},
   "source": [
    "<hr>\n",
    "\n",
    "# Question 6:\n",
    "\n",
    "Write the Python function to get a string made of 4 copies of the last\n",
    " two characters of the specified string (length must be at least 2).\n",
    "\n",
    "<pre>\n",
    " Sample function and result :\n",
    " insert-end ('Python') -> abababab\n",
    " insert-end('Exercises') -> jkjkjkjk\n",
    "</pre>\n",
    "\n",
    "<hr>"
   ]
  },
  {
   "cell_type": "code",
   "execution_count": 20,
   "metadata": {},
   "outputs": [
    {
     "name": "stdout",
     "output_type": "stream",
     "text": [
      "Enter all required strings seprated by space( ) : Python Exercises\n",
      "Output :  ['onononon', 'eseseses']\n"
     ]
    }
   ],
   "source": [
    "# According to problem statement considering given output may be false.\n",
    "\n",
    "def req_str(args):\n",
    "    output = []\n",
    "    for arg in args:\n",
    "        if len(arg) >= 2:\n",
    "            two_chars = arg[-2:]\n",
    "            str_ = two_chars * 4\n",
    "        output.append(str_)\n",
    "    return output\n",
    "\n",
    "print(\"Output : \",req_str(input(\"Enter all required strings seprated by space( ) : \").split(\" \")))"
   ]
  },
  {
   "cell_type": "markdown",
   "metadata": {},
   "source": [
    "<hr>\n",
    "\n",
    "# Question 7:\n",
    "\n",
    "Write the python function to get a string made of its first three\n",
    "  characters of a specified string. If\n",
    "the length of the string is less than 3\n",
    " then return the original string.\n",
    "\n",
    "<pre>\n",
    "Sample function and result :\n",
    " first-three('ipy') -> ipy\n",
    " first-three('python') -> pyt\n",
    "    \n",
    "</pre>\n",
    "\n",
    "<hr>"
   ]
  },
  {
   "cell_type": "code",
   "execution_count": 21,
   "metadata": {},
   "outputs": [
    {
     "name": "stdout",
     "output_type": "stream",
     "text": [
      "Enter all required strings seprated by space( ) : ipy python\n",
      "Output :  ['ipy', 'pyt']\n"
     ]
    }
   ],
   "source": [
    "def req_str(args):\n",
    "    output = []\n",
    "    for arg in args:\n",
    "        if len(arg) >= 3:\n",
    "            arg = arg[:3]\n",
    "            \n",
    "        output.append(arg)\n",
    "    return output\n",
    "\n",
    "print(\"Output : \",req_str(input(\"Enter all required strings seprated by space( ) : \").split(\" \")))"
   ]
  },
  {
   "cell_type": "markdown",
   "metadata": {},
   "source": [
    "<hr>\n",
    "\n",
    "# Question 8:\n",
    "\n",
    "Write the python program to print the following floating numbers up to 2 decimal places?\n",
    "\n",
    "<hr>"
   ]
  },
  {
   "cell_type": "code",
   "execution_count": 24,
   "metadata": {},
   "outputs": [
    {
     "name": "stdout",
     "output_type": "stream",
     "text": [
      "Enter desired numbers seprated by space : 3.4545 6.777\n",
      "3.45\n",
      "6.78\n"
     ]
    }
   ],
   "source": [
    "float(\"{:.2f}\".format(13.949999999999999))\n",
    "\n",
    "numbers = input(\"Enter desired numbers seprated by space : \").split(\" \")\n",
    "\n",
    "for num in numbers:\n",
    "    print(float(\"{:.2f}\".format(float(num))))"
   ]
  },
  {
   "cell_type": "markdown",
   "metadata": {},
   "source": [
    "<hr>\n",
    "\n",
    "# Question 9:\n",
    "\n",
    "Write the Python program to format a number with a percentage?\n",
    "\n",
    "\n",
    "<hr>"
   ]
  },
  {
   "cell_type": "code",
   "execution_count": 29,
   "metadata": {},
   "outputs": [
    {
     "ename": "SyntaxError",
     "evalue": "invalid syntax (<ipython-input-29-c78fbb4dfabd>, line 1)",
     "output_type": "error",
     "traceback": [
      "\u001b[0;36m  File \u001b[0;32m\"<ipython-input-29-c78fbb4dfabd>\"\u001b[0;36m, line \u001b[0;32m1\u001b[0m\n\u001b[0;31m    print \"{0:.0f}%\".format(1/3 * 100)\u001b[0m\n\u001b[0m          ^\u001b[0m\n\u001b[0;31mSyntaxError\u001b[0m\u001b[0;31m:\u001b[0m invalid syntax\n"
     ]
    }
   ],
   "source": [
    "print \"{0:.0f}%\".format(1/3 * 100)\n",
    "\n",
    "fraction = input(\"Enter desired fraction (ex. 1/4 ) to obtain % : \")\n",
    "\n",
    "print(float(\"{:.0f}\".format(float(fraction)*100)))"
   ]
  },
  {
   "cell_type": "markdown",
   "metadata": {},
   "source": [
    "<hr>\n",
    "\n",
    "# Question 10:\n",
    "\n",
    "Write the Python program to count occurrences of a substring in a String?\n",
    "\n",
    "\n",
    "<hr>"
   ]
  },
  {
   "cell_type": "code",
   "execution_count": 33,
   "metadata": {},
   "outputs": [
    {
     "name": "stdout",
     "output_type": "stream",
     "text": [
      "Enter the string to count occurences of substring : Students\n",
      "{'s': 2, 't': 2, 'u': 1, 'd': 1, 'e': 1, 'n': 1}\n"
     ]
    }
   ],
   "source": [
    "string = input(\"Enter the string to count occurences of substring : \")\n",
    "\n",
    "count_dict = dict()\n",
    "for char in string:\n",
    "    if count_dict.get(char.lower(), None) is None:\n",
    "        count_dict[char.lower()] = 1\n",
    "    else:\n",
    "        count_dict[char.lower()] += 1\n",
    "        \n",
    "print(count_dict)"
   ]
  },
  {
   "cell_type": "markdown",
   "metadata": {},
   "source": [
    "<hr>\n",
    "\n",
    "# Question 11:\n",
    "\n",
    "Write the Python program to count repeated characters in a string.\n",
    "\n",
    "<pre>\n",
    " Sample string: ' thequickbrownjumpsoverthelazydog '\n",
    " \n",
    " Output :\n",
    " o3 e3 u2 h2 r2 t2\n",
    "    \n",
    "</pre>\n",
    "\n",
    "<hr>"
   ]
  },
  {
   "cell_type": "code",
   "execution_count": 35,
   "metadata": {},
   "outputs": [
    {
     "name": "stdout",
     "output_type": "stream",
     "text": [
      "Enter the string to count occurences of substring : thequickbrownjumpsoverthelazydog\n",
      "t 2\n",
      "h 2\n",
      "e 3\n",
      "u 2\n",
      "r 2\n",
      "o 3\n"
     ]
    }
   ],
   "source": [
    "string = input(\"Enter the string to count occurences of substring : \")\n",
    "\n",
    "count_dict = dict()\n",
    "for char in string:\n",
    "    if count_dict.get(char.lower(), None) is None:\n",
    "        count_dict[char.lower()] = 1\n",
    "    else:\n",
    "        count_dict[char.lower()] += 1\n",
    "        \n",
    "for char, count in count_dict.items():\n",
    "    if count > 1:\n",
    "        print(char,count)\n",
    "        "
   ]
  },
  {
   "cell_type": "markdown",
   "metadata": {},
   "source": [
    "<hr>\n",
    "\n",
    "# Question 12:\n",
    "\n",
    "Write the Python program to print the square and cube symbol in the area of a rectangle and volume of a cylinder?\n",
    "\n",
    "<pre>\n",
    " Sample output-\n",
    " The area of the rectangle is 1256.66cm2\n",
    " The volume of the cylinder is 1254.725cm3\n",
    "    \n",
    "</pre>\n",
    "\n",
    "<hr>"
   ]
  },
  {
   "cell_type": "code",
   "execution_count": 38,
   "metadata": {},
   "outputs": [
    {
     "name": "stdout",
     "output_type": "stream",
     "text": [
      "The area of the rectangle is 1256.66cm²\n",
      "The volume of the cylinder is 1254.725cm³\n"
     ]
    }
   ],
   "source": [
    "print(\"The area of the rectangle is 1256.66cm\\u00b2\")\n",
    "print(\"The volume of the cylinder is 1254.725cm\\u00b3\")"
   ]
  },
  {
   "cell_type": "markdown",
   "metadata": {},
   "source": [
    "<hr>\n",
    "\n",
    "# Question 13:\n",
    "\n",
    "Write the Python program to check if a string contains all letters of the alphabet?\n",
    "\n",
    "\n",
    "\n",
    "<hr>"
   ]
  },
  {
   "cell_type": "code",
   "execution_count": 39,
   "metadata": {},
   "outputs": [
    {
     "name": "stdout",
     "output_type": "stream",
     "text": [
      "Enter the required string : df\n"
     ]
    },
    {
     "ename": "TypeError",
     "evalue": "match() missing 2 required positional arguments: 'pattern' and 'string'",
     "output_type": "error",
     "traceback": [
      "\u001b[0;31m---------------------------------------------------------------------------\u001b[0m",
      "\u001b[0;31mTypeError\u001b[0m                                 Traceback (most recent call last)",
      "\u001b[0;32m<ipython-input-39-556d0cfc06a5>\u001b[0m in \u001b[0;36m<module>\u001b[0;34m\u001b[0m\n\u001b[1;32m      3\u001b[0m \u001b[0mstring\u001b[0m \u001b[0;34m=\u001b[0m \u001b[0minput\u001b[0m\u001b[0;34m(\u001b[0m\u001b[0;34m\"Enter the required string : \"\u001b[0m\u001b[0;34m)\u001b[0m\u001b[0;34m\u001b[0m\u001b[0;34m\u001b[0m\u001b[0m\n\u001b[1;32m      4\u001b[0m \u001b[0;34m\u001b[0m\u001b[0m\n\u001b[0;32m----> 5\u001b[0;31m \u001b[0mresult\u001b[0m \u001b[0;34m=\u001b[0m \u001b[0mre\u001b[0m\u001b[0;34m.\u001b[0m\u001b[0mmatch\u001b[0m\u001b[0;34m(\u001b[0m\u001b[0;34m)\u001b[0m\u001b[0;34m\u001b[0m\u001b[0;34m\u001b[0m\u001b[0m\n\u001b[0m",
      "\u001b[0;31mTypeError\u001b[0m: match() missing 2 required positional arguments: 'pattern' and 'string'"
     ]
    }
   ],
   "source": [
    "import re\n",
    "\n",
    "string = input(\"Enter the required string : \")\n",
    "\n",
    "result = re.match(\"[a-z]\",string.lower())\n"
   ]
  },
  {
   "cell_type": "markdown",
   "metadata": {},
   "source": [
    "<hr>\n",
    "\n",
    "# Question 14:\n",
    "\n",
    "Write the Python program to find the second most repeated word in a given string?\n",
    "\n",
    "\n",
    "<hr>"
   ]
  },
  {
   "cell_type": "code",
   "execution_count": null,
   "metadata": {},
   "outputs": [],
   "source": [
    "string = input(\"Enter the string to count occurences of substring : \")\n",
    "\n",
    "count_dict = dict()\n",
    "for char in string:\n",
    "    if count_dict.get(char.lower(), None) is None:\n",
    "        count_dict[char.lower()] = 1\n",
    "    else:\n",
    "        count_dict[char.lower()] += 1\n",
    "        \n",
    "for "
   ]
  },
  {
   "cell_type": "markdown",
   "metadata": {},
   "source": [
    "<hr>\n",
    "\n",
    "# Question 15:\n",
    "\n",
    "Write the Python program to find the minimum window in the given string, which will contains all the characters of another given strings?\n",
    "\n",
    "<pre>\n",
    "\n",
    " Example 1\n",
    " Input : string1 = \" PRWSOERIUSFK \"\n",
    " string2 = \" OSU \"\n",
    " Output: Minimum window is \"OERIUS\"\n",
    "    \n",
    "</pre>\n",
    "\n",
    "<hr>"
   ]
  },
  {
   "cell_type": "code",
   "execution_count": 54,
   "metadata": {},
   "outputs": [
    {
     "data": {
      "text/plain": [
       "False"
      ]
     },
     "execution_count": 54,
     "metadata": {},
     "output_type": "execute_result"
    }
   ],
   "source": [
    "\"OUS\" in \"PRWSOERIUSFK\""
   ]
  },
  {
   "cell_type": "code",
   "execution_count": 52,
   "metadata": {},
   "outputs": [
    {
     "name": "stdout",
     "output_type": "stream",
     "text": [
      "Enter both the strings : PRWSOERIUSFK OSU\n",
      "PRWSOERIUSFK\n",
      "PRW\n",
      "RWS\n",
      "WSO\n",
      "SOE\n",
      "OER\n",
      "ERI\n",
      "RIU\n",
      "IUS\n",
      "USF\n",
      "SFK\n",
      "FK\n",
      "K\n",
      "PRWS\n",
      "RWSO\n",
      "WSOE\n",
      "SOER\n",
      "OERI\n",
      "ERIU\n",
      "RIUS\n",
      "IUSF\n",
      "USFK\n",
      "SFK\n",
      "FK\n",
      "K\n",
      "PRWSO\n",
      "RWSOE\n",
      "WSOER\n",
      "SOERI\n",
      "OERIU\n",
      "ERIUS\n",
      "RIUSF\n",
      "IUSFK\n",
      "USFK\n",
      "SFK\n",
      "FK\n",
      "K\n",
      "PRWSOE\n",
      "RWSOER\n",
      "WSOERI\n",
      "SOERIU\n",
      "OERIUS\n",
      "ERIUSF\n",
      "RIUSFK\n",
      "IUSFK\n",
      "USFK\n",
      "SFK\n",
      "FK\n",
      "K\n",
      "PRWSOER\n",
      "RWSOERI\n",
      "WSOERIU\n",
      "SOERIUS\n",
      "OERIUSF\n",
      "ERIUSFK\n",
      "RIUSFK\n",
      "IUSFK\n",
      "USFK\n",
      "SFK\n",
      "FK\n",
      "K\n",
      "PRWSOERI\n",
      "RWSOERIU\n",
      "WSOERIUS\n",
      "SOERIUSF\n",
      "OERIUSFK\n",
      "ERIUSFK\n",
      "RIUSFK\n",
      "IUSFK\n",
      "USFK\n",
      "SFK\n",
      "FK\n",
      "K\n",
      "PRWSOERIU\n",
      "RWSOERIUS\n",
      "WSOERIUSF\n",
      "SOERIUSFK\n",
      "OERIUSFK\n",
      "ERIUSFK\n",
      "RIUSFK\n",
      "IUSFK\n",
      "USFK\n",
      "SFK\n",
      "FK\n",
      "K\n",
      "PRWSOERIUS\n",
      "RWSOERIUSF\n",
      "WSOERIUSFK\n",
      "SOERIUSFK\n",
      "OERIUSFK\n",
      "ERIUSFK\n",
      "RIUSFK\n",
      "IUSFK\n",
      "USFK\n",
      "SFK\n",
      "FK\n",
      "K\n",
      "PRWSOERIUSF\n",
      "RWSOERIUSFK\n",
      "WSOERIUSFK\n",
      "SOERIUSFK\n",
      "OERIUSFK\n",
      "ERIUSFK\n",
      "RIUSFK\n",
      "IUSFK\n",
      "USFK\n",
      "SFK\n",
      "FK\n",
      "K\n",
      "PRWSOERIUSFK\n",
      "RWSOERIUSFK\n",
      "WSOERIUSFK\n",
      "SOERIUSFK\n",
      "OERIUSFK\n",
      "ERIUSFK\n",
      "RIUSFK\n",
      "IUSFK\n",
      "USFK\n",
      "SFK\n",
      "FK\n",
      "K\n",
      "Smaller String is not in Larger String.\n"
     ]
    }
   ],
   "source": [
    "str1, str2 = input(\"Enter both the strings : \").split(\" \")\n",
    "\n",
    "print(str1)\n",
    "\n",
    "small_str, large_str = (str1, str2) if len(str1) <= len(str2) else (str2, str1)\n",
    "\n",
    "flag = 0\n",
    "window_size = len(small_str)\n",
    "\n",
    "while int(window_size) <= len(large_str) and flag == 0:\n",
    "\n",
    "    for i, char in enumerate(large_str):\n",
    "        print(large_str[i:i+window_size])\n",
    "        if int(i+window_size) <= len(large_str) and small_str in large_str[i:i+window_size]:\n",
    "            req_word = large_str[i:i+window_size]\n",
    "            flag = 1\n",
    "            print(\"Minimum window is : \", req_word)\n",
    "            break\n",
    "    else:\n",
    "        window_size += 1\n",
    "\n",
    "if flag == 0:\n",
    "    print(\"Smaller String is not in Larger String.\")\n",
    "    \n"
   ]
  },
  {
   "cell_type": "markdown",
   "metadata": {},
   "source": [
    "<hr>\n",
    "\n",
    "# Question 16:\n",
    "\n",
    "Write the Python program to find smallest window that contains all characters of the given string?\n",
    "\n",
    "<pre>\n",
    "Original Strings: asdaewsqgtwwsa\n",
    "Smallest window that contains all characters of the said string:\n",
    "Daewsqgt\n",
    "    \n",
    "</pre>\n",
    "\n",
    "<hr>"
   ]
  },
  {
   "cell_type": "markdown",
   "metadata": {},
   "source": [
    "<hr>\n",
    "\n",
    "# Question 17:\n",
    "\n",
    "Write the Python program to count number of substrings from a given string of lowercase alphabets with exactly k distinct (given) characters?\n",
    "\n",
    "<pre>\n",
    "Input a string (lowercase alphabets): wolf \n",
    "Input k: 4\n",
    "Number of substrings with exactly 4 distinct characters: 1\n",
    "    \n",
    "</pre>\n",
    "\n",
    "<hr>"
   ]
  },
  {
   "cell_type": "markdown",
   "metadata": {},
   "source": [
    "<hr>\n",
    "\n",
    "# Question 18:\n",
    "\n",
    "Write the Python program to count number of non-empty substrings of the given string?\n",
    "\n",
    "<pre>\n",
    "Input a string: w3resource \n",
    "Number of substrings:\n",
    "55\n",
    " \n",
    "\n",
    "</pre>\n",
    "\n",
    "<hr>"
   ]
  },
  {
   "cell_type": "markdown",
   "metadata": {},
   "source": [
    "<hr>\n",
    "\n",
    "# Question 19:\n",
    "\n",
    "Write the Python program to count number of substrings with same first and last characters of the given string?\n",
    "\n",
    "<pre>\n",
    "Input a string: abcd\n",
    "4\n",
    "</pre>\n",
    "\n",
    "<hr>"
   ]
  },
  {
   "cell_type": "markdown",
   "metadata": {},
   "source": [
    "<hr>\n",
    "\n",
    "# Question 20:\n",
    "\n",
    "Write the Python program to count the number of strings where the string length is 2 or more, and first and last character are same from a given list of strings.\n",
    "\n",
    "<pre>\n",
    " Sample List : ['abc', 'xyz', 'wxw', '1331']\n",
    " Expected Result: 2\n",
    "</pre>\n",
    "\n",
    "\n",
    "<hr>"
   ]
  },
  {
   "cell_type": "markdown",
   "metadata": {},
   "source": [
    "<hr>\n",
    "\n",
    "# Question 21:\n",
    "\n",
    "Write the Python program to get a list, sorted in increasing order by the last element in each tuple from the given list of non-empty tuples?\n",
    "\n",
    "<pre>\n",
    " SampleList-[(2,5),(1,2),(4,4),(2,3),(2,1)]\n",
    " Expected Result - [ (2, 1), (1, 2), (2, 3), (4, 4), (2, 5) ]\n",
    "</pre>\n",
    "\n",
    "<hr>"
   ]
  },
  {
   "cell_type": "markdown",
   "metadata": {},
   "source": [
    "<hr>\n",
    "\n",
    "# Question 22:\n",
    "\n",
    "Write the Python program to remove duplicates from a list?\n",
    "\n",
    "\n",
    "<hr>"
   ]
  },
  {
   "cell_type": "markdown",
   "metadata": {},
   "source": [
    "<hr>\n",
    "\n",
    "# Question 23:\n",
    "\n",
    "Write the Python program to find the list of words that are longer\n",
    "than n from a given list of words?\n",
    "\n",
    "<hr>"
   ]
  },
  {
   "cell_type": "markdown",
   "metadata": {},
   "source": [
    "<hr>\n",
    "\n",
    "# Question 24:\n",
    "\n",
    "Write the Python program to print a specified list after removing the 0th, 4th, and 5th elements?\n",
    "\n",
    "<pre>\n",
    "\n",
    "Sample List - ['Red', 'Green', 'White', 'Black', 'Pink', 'Yellow']\n",
    " Expected Output - ['Green', 'White', 'Black']\n",
    "\n",
    "</pre>\n",
    "\n",
    "\n",
    "<hr>"
   ]
  },
  {
   "cell_type": "markdown",
   "metadata": {},
   "source": [
    "<hr>\n",
    "\n",
    "# Question 25:\n",
    "\n",
    "Write the Python program to generate all permutations of a list in Python?\n",
    "\n",
    "\n",
    "<hr>"
   ]
  },
  {
   "cell_type": "markdown",
   "metadata": {},
   "source": [
    "<hr>\n",
    "\n",
    "# Question 26:\n",
    "\n",
    "Write the Python program to convert a pair of values into a sorted unique array?\n",
    "\n",
    "<pre>\n",
    "\n",
    "Original List- [ (1, 2), (3, 4), (1, 2), (5, 6), (7, 8), (1, 2), (3, 4), (3, 4), (7, 8), (9, 10) ]\n",
    "Sorted Unique Data- [ 1, 2, 3, 4, 5, 6, 7, 8, 9, 10 ]\n",
    "    \n",
    "</pre>\n",
    "\n",
    "<hr>"
   ]
  },
  {
   "cell_type": "markdown",
   "metadata": {},
   "source": [
    "<hr>\n",
    "\n",
    "# Question 27:\n",
    "\n",
    "Write the Python class to convert an integer to a roman numeral?\n",
    "\n",
    "\n",
    "\n",
    "<hr>"
   ]
  },
  {
   "cell_type": "markdown",
   "metadata": {},
   "source": [
    "<hr>\n",
    "\n",
    "# Question 28:\n",
    "\n",
    "Write the Python class to convert a Roman numeral to an integer?\n",
    "\n",
    "\n",
    "<hr>"
   ]
  },
  {
   "cell_type": "markdown",
   "metadata": {},
   "source": [
    "<hr>\n",
    "\n",
    "# Question 29:\n",
    "\n",
    "Write the Python class to find the validity of the string of the parentheses, '(', ')', '{', '}', '[' and '] and the brackets must be closed in the correct order, example - \"()\" and \"()[]{}\" are valid but \"[)\", \"({[)]\" and \"{{{\" are invalid.\n",
    "\n",
    "<hr>"
   ]
  },
  {
   "cell_type": "markdown",
   "metadata": {},
   "source": [
    "<hr>\n",
    "\n",
    "# Question 30:\n",
    "\n",
    "Write the Python class to get all possible unique subsets from a set of distinct integers?\n",
    "\n",
    "<pre>\n",
    " Input - [4, 5, 6]\n",
    " Output - [[], [6], [5], [5, 6], [4], [4, 6], [4, 5], [4, 5, 6]]\n",
    "</pre>\n",
    "\n",
    "<hr>"
   ]
  },
  {
   "cell_type": "markdown",
   "metadata": {},
   "source": [
    "<hr>\n",
    "\n",
    "# Question 31:\n",
    "\n",
    "Write the Python class to find a pair of elements (indices of the two numbers) from a given array whose sum equals the specific target number?\n",
    "\n",
    "<pre>\n",
    " Input: numbers- [10,20,10,40,50,60,70], target=50\n",
    " Output- 3, 4\n",
    "    \n",
    "</pre>\n",
    "\n",
    "<hr>"
   ]
  },
  {
   "cell_type": "markdown",
   "metadata": {},
   "source": [
    "<hr>\n",
    "\n",
    "# Question 32:\n",
    "\n",
    "Write the Python class to find the three elements that sum to zero from the set of n real numbers?\n",
    "\n",
    "<pre>\n",
    " Input array- [-25, -10, -7, -3, 2, 4, 8, 10]\n",
    " Output - [[-10, 2, 8], [-7, -3, 10]]\n",
    "\n",
    "</pre>\n",
    "\n",
    "<hr>"
   ]
  },
  {
   "cell_type": "markdown",
   "metadata": {},
   "source": [
    "<hr>\n",
    "\n",
    "# Question 33:\n",
    "\n",
    "Write the Python class to implement pow(x, n)?\n",
    "\n",
    "\n",
    "<hr>"
   ]
  },
  {
   "cell_type": "markdown",
   "metadata": {},
   "source": [
    "<hr>\n",
    "\n",
    "# Question 34:\n",
    "\n",
    "Write the Python class which has two methods get_String and\n",
    "print_String. get_String accept the string from the user and\n",
    "print_String print the string in upper case.\n",
    "\n",
    "\n",
    "<hr>"
   ]
  },
  {
   "cell_type": "markdown",
   "metadata": {},
   "source": [
    "<hr>\n",
    "\n",
    "# Question 35:\n",
    "\n",
    "Write the Python class named Rectangle constructed by a length and width and the method which will compute the area of the rectangle?\n",
    "\n",
    "\n",
    "<hr>"
   ]
  },
  {
   "cell_type": "markdown",
   "metadata": {},
   "source": [
    "<hr>\n",
    "\n",
    "# Question 36:\n",
    "\n",
    "Write the Python class named Circle constructed by the radius and two methods which will compute the area and perimeter of the circle?\n",
    "\n",
    "\n",
    "<hr>"
   ]
  },
  {
   "cell_type": "markdown",
   "metadata": {},
   "source": [
    "<hr>\n",
    "\n",
    "# Question 37:\n",
    "\n",
    "Write the Python program to get the class name of an instance in Python?\n",
    "\n",
    "<hr>"
   ]
  },
  {
   "cell_type": "markdown",
   "metadata": {},
   "source": [
    "<hr>\n",
    "\n",
    "# Question 38:\n",
    "\n",
    "Write the Python program to count the number of students of individual class?\n",
    "\n",
    "<pre>\n",
    "\n",
    "    Sample data-\n",
    "     classes = (\n",
    "     ('V', 1),\n",
    "     ('VI', 1),\n",
    "     ('V', 2),\n",
    "     ('VI', 2),\n",
    "     ('VI', 3),\n",
    "     ('VII', 1),\n",
    "    )\n",
    "\n",
    " Expected Output-\n",
    " Counter({'VI': 3, 'V': 2, 'VII': 1})\n",
    "\n",
    "</pre>\n",
    "\n",
    "<hr>"
   ]
  },
  {
   "cell_type": "markdown",
   "metadata": {},
   "source": [
    "<hr>\n",
    "\n",
    "# Question 39:\n",
    "\n",
    "Write the Python program to create an instance of an OrderedDict using the given dictionary and sort dictionary during the creation and print members of the dictionary in reverse order?\n",
    "\n",
    "<pre>\n",
    "Expected Output-\n",
    " Angola 244.\n",
    " Andorra 376.\n",
    " Algeria 213.\n",
    " Afghanistan 93.\n",
    " Albania 355.\n",
    " In reverse order-\n",
    " Albania 355.\n",
    " Afghanistan 93.\n",
    " Algeria 213.\n",
    " Andorra 376.\n",
    " Angola 244.\n",
    "\n",
    "</pre>\n",
    "\n",
    "\n",
    "\n",
    "<hr>"
   ]
  },
  {
   "cell_type": "markdown",
   "metadata": {},
   "source": [
    "<hr>\n",
    "\n",
    "# Question 40:\n",
    "\n",
    "Write the Python program to compare two unordered lists (not\n",
    " sets)?\n",
    " \n",
    "<pre>\n",
    "Expected Output: False\n",
    "    \n",
    "</pre>\n",
    "\n",
    "<hr>"
   ]
  },
  {
   "cell_type": "markdown",
   "metadata": {},
   "source": [
    "<hr>\n",
    "\n",
    "# Question 41:\n",
    "\n",
    "Write the Python program to get an array buffer information?\n",
    "\n",
    "<pre>\n",
    "Expected Output-\n",
    " Array buffer start address in memory and number of elements.\n",
    " (25855056, 2)\n",
    "    \n",
    "</pre>\n",
    "\n",
    "<hr>"
   ]
  },
  {
   "cell_type": "markdown",
   "metadata": {},
   "source": [
    "<hr>\n",
    "\n",
    "# Question 42:\n",
    "\n",
    "Write the Python program to convert an array to an array of machine values and return the bytes representation?\n",
    "\n",
    "<pre>\n",
    "Expected Output-\n",
    " Original array-\n",
    " A1: array('i', [1, 2, 3, 4, 5, 6])\n",
    " Array of bytes:\n",
    " \n",
    "    \n",
    "</pre>\n",
    "\n",
    "\n",
    "<hr>"
   ]
  },
  {
   "cell_type": "markdown",
   "metadata": {},
   "source": [
    "<hr>\n",
    "\n",
    "# Question 43:\n",
    "\n",
    "Write the Python program to read a string and interpreting the string as an array of machine values?\n",
    "\n",
    "<pre>\n",
    " Expected Output-\n",
    " array1- array('i', [7, 8, 9, 10])\n",
    " Bytes- b'0700000008000000090000000a000000'\n",
    " array2- array('i', [7, 8, 9, 10])\n",
    " \n",
    "    \n",
    "</pre>\n",
    "\n",
    "<hr>"
   ]
  },
  {
   "cell_type": "markdown",
   "metadata": {},
   "source": [
    "<hr>\n",
    "\n",
    "# Question 44:\n",
    "\n",
    "Write the Python program to push three items into the heap and return the smallest item from the heap. Also, return and pop the smallest item from the heap?\n",
    "\n",
    "<pre>\n",
    "\n",
    "Expected Output-\n",
    " Items in the heap-\n",
    " ('VI', 1).\n",
    " ('VII', 3).\n",
    " ('VIII', 2).\n",
    " ----------------------\n",
    " The smallest item in the heap:\n",
    " ('VI', 1).\n",
    " ----------------------\n",
    " Pop the smallest item in the heap:\n",
    " ('VII', 2).\n",
    " ('VIII', 3).\n",
    "    \n",
    "</pre>\n",
    "\n",
    "<hr>"
   ]
  },
  {
   "cell_type": "markdown",
   "metadata": {},
   "source": [
    "<hr>\n",
    "\n",
    "# Question 45:\n",
    "\n",
    "Write the Python program to locate the left insertion point for a specified value in sorted order?\n",
    "\n",
    "<pre>\n",
    "Expected Output:\n",
    "4 2\n",
    "    \n",
    "</pre>\n",
    "\n",
    "<hr>"
   ]
  },
  {
   "cell_type": "markdown",
   "metadata": {},
   "source": [
    "<hr>\n",
    "\n",
    "# Question 46:\n",
    "\n",
    "Write the Python program to create the FIFO queue?\n",
    "\n",
    "<pre>\n",
    " Expected Output:\n",
    " 0123\n",
    "    \n",
    "</pre>\n",
    "\n",
    "<hr>"
   ]
  },
  {
   "cell_type": "markdown",
   "metadata": {},
   "source": [
    "<hr>\n",
    "\n",
    "# Question 47:\n",
    "\n",
    "Write the Python program to calculate the harmonic sum of n-1. Note: The harmonic sum is the sum of reciprocals of the positive Integers?\n",
    "\n",
    "<pre>\n",
    " \n",
    " Example -\n",
    " \n",
    "  1 + 1/2 + 1/3 + 1/4 ..\n",
    "\n",
    "</pre>\n",
    "\n",
    "<hr>"
   ]
  },
  {
   "cell_type": "markdown",
   "metadata": {},
   "source": [
    "<hr>\n",
    "\n",
    "# Question 48:\n",
    "\n",
    "Write the NumPy program to create a 2d array with 6 on the border and 0 inside?\n",
    "\n",
    "<pre>\n",
    "Expected Output-\n",
    " Original array-\n",
    " [[66666]\n",
    " [66666]\n",
    " [66666]\n",
    " [66666]\n",
    " [6 666]].\n",
    " 6 on the border and 0 inside in the array-\n",
    " [[66666]\n",
    " [60006]\n",
    " [60006]\n",
    " [60006]\n",
    " [66666]].\n",
    "</pre>\n",
    "\n",
    "<hr>"
   ]
  },
  {
   "cell_type": "markdown",
   "metadata": {},
   "source": [
    "<hr>\n",
    "\n",
    "# Question 49:\n",
    "\n",
    "Write the NumPy program to create a 8x8 matrix and fill it with the checkerboard pattern?\n",
    "\n",
    "<pre>\n",
    "\n",
    "Checkerboard pattern-\n",
    "[[39393939]\n",
    "[93939393]\n",
    "[39393939]\n",
    "[93939393]\n",
    "[39393939]\n",
    "[93939393]\n",
    "[39393939]\n",
    "[93939393]].\n",
    "\n",
    "</pre>\n",
    "\n",
    "\n",
    "\n",
    "<hr>"
   ]
  },
  {
   "cell_type": "markdown",
   "metadata": {},
   "source": [
    "<hr>\n",
    "\n",
    "# Question 50:\n",
    "\n",
    "Write the NumPy program to create an empty and a full array.\n",
    "\n",
    "<pre>\n",
    "[[4.45057637e-308 1.78021527e-306 8.45549797e-307 1.37962049e-306] [1.11260619e-306 1.78010255e-306 9.79054228e-307 4.45057637e-308] [8.45596650e-307 9.34602321e-307 4.94065646e-322 0.00000000e+000]] [[6 6 6]\n",
    "[6 6 6]\n",
    "[6 6 6]]\n",
    "</pre>\n",
    "\n",
    "<hr>"
   ]
  },
  {
   "cell_type": "markdown",
   "metadata": {},
   "source": [
    "<hr>\n",
    "\n",
    "# Question 51:\n",
    "\n",
    "Write the NumPy program to convert the values of Centigrade degrees into the Fahrenheit degrees and the centigrade values are stored in the NumPy array.\n",
    "\n",
    "<pre>\n",
    " Sample Array -[0, 12, 45.21 ,34, 99.91]\n",
    " Expected Output-\n",
    " Values in Fahrenheit degrees-\n",
    " [ 0. 12. 45.21 34. 99.91]\n",
    " Values in Centigrade degrees-\n",
    " [-17.77777778 -11.11111111 7.33888889 1.11111111 37.72777778]\n",
    "    \n",
    "</pre>\n",
    "\n",
    "<hr>"
   ]
  },
  {
   "cell_type": "code",
   "execution_count": null,
   "metadata": {},
   "outputs": [],
   "source": []
  },
  {
   "cell_type": "markdown",
   "metadata": {},
   "source": [
    "<hr>\n",
    "\n",
    "# Question 8:\n",
    "\n",
    "Write the python program to print the following floating numbers up to 2 decimal places?\n",
    "\n",
    "<hr>"
   ]
  },
  {
   "cell_type": "markdown",
   "metadata": {},
   "source": [
    "<hr>\n",
    "\n",
    "# Question 9:\n",
    "\n",
    "Write the Python program to format a number with a percentage?\n",
    "\n",
    "\n",
    "<hr>"
   ]
  },
  {
   "cell_type": "markdown",
   "metadata": {},
   "source": [
    "<hr>\n",
    "\n",
    "# Question 10:\n",
    "\n",
    "Write the Python program to count occurrences of a substring in a String?\n",
    "\n",
    "\n",
    "<hr>"
   ]
  },
  {
   "cell_type": "markdown",
   "metadata": {},
   "source": [
    "<hr>\n",
    "\n",
    "# Question 11:\n",
    "\n",
    "Write the Python program to count repeated characters in a string.\n",
    "\n",
    "<pre>\n",
    " Sample string: ' thequickbrownjumpsoverthelazydog '\n",
    " \n",
    " Output :\n",
    " o3 e3 u2 h2 r2 t2\n",
    "    \n",
    "</pre>\n",
    "\n",
    "<hr>"
   ]
  },
  {
   "cell_type": "markdown",
   "metadata": {},
   "source": [
    "<hr>\n",
    "\n",
    "# Question 12:\n",
    "\n",
    "Write the Python program to print the square and cube symbol in the area of a rectangle and volume of a cylinder?\n",
    "\n",
    "<pre>\n",
    " Sample output-\n",
    " The area of the rectangle is 1256.66cm2\n",
    " The volume of the cylinder is 1254.725cm3\n",
    "    \n",
    "</pre>\n",
    "\n",
    "<hr>"
   ]
  },
  {
   "cell_type": "markdown",
   "metadata": {},
   "source": [
    "<hr>\n",
    "\n",
    "# Question 13:\n",
    "\n",
    "Write the Python program to check if a string contains all letters of the alphabet?\n",
    "\n",
    "\n",
    "\n",
    "<hr>"
   ]
  },
  {
   "cell_type": "markdown",
   "metadata": {},
   "source": [
    "<hr>\n",
    "\n",
    "# Question 14:\n",
    "\n",
    "Write the Python program to find the second most repeated word in a given string?\n",
    "\n",
    "\n",
    "<hr>"
   ]
  },
  {
   "cell_type": "markdown",
   "metadata": {},
   "source": [
    "<hr>\n",
    "\n",
    "# Question 15:\n",
    "\n",
    "Write the Python program to find the minimum window in the given string, which will contains all the characters of another given strings?\n",
    "\n",
    "<pre>\n",
    "\n",
    " Example 1\n",
    " Input : string1 = \" PRWSOERIUSFK \"\n",
    " string2 = \" OSU \"\n",
    " Output: Minimum window is \"OERIUS\"\n",
    "    \n",
    "</pre>\n",
    "\n",
    "<hr>"
   ]
  },
  {
   "cell_type": "markdown",
   "metadata": {},
   "source": [
    "<hr>\n",
    "\n",
    "# Question 1:\n",
    "\n",
    "Write a Python program to get the string from the given string where\n",
    " all the occurrence of its first char has been changed to '$,' except first\n",
    " char itself?\n",
    "\n",
    "<pre>\n",
    " Sample String: 'prospect'\n",
    " Expected Result : 'pros$ect'\n",
    "    \n",
    "</pre>\n",
    "\n",
    "<hr>"
   ]
  },
  {
   "cell_type": "markdown",
   "metadata": {},
   "source": [
    "<hr>\n",
    "\n",
    "# Question 2:\n",
    "\n",
    "Write a Python program to get the single string from the two given\n",
    " strings, and separated by the space and swap the first two characters of\n",
    " each string?\n",
    "\n",
    "<pre>\n",
    "Sample String : 'abc', 'xyz'. \n",
    "Expected Result: 'xyc abz'\n",
    "    \n",
    "</pre>\n",
    "\n",
    "<hr>"
   ]
  },
  {
   "cell_type": "markdown",
   "metadata": {},
   "source": [
    "<hr>\n",
    "\n",
    "# Question 3:\n",
    "\n",
    "Write the Python program to add 'ing' at the end of the given string\n",
    "(length of the string should be at least 3). If given string already ends\n",
    "with 'ing,' then add 'ly' instead. If string length of the given string is less\n",
    "than 3, leave it unchanged?\n",
    "\n",
    "<pre>\n",
    "Sample string: ' abc '\n",
    "Expectedresult: 'abcing'\n",
    "Samplestring: 'string'\n",
    "Expectedresult: 'stringly'\n",
    "\n",
    "</pre>\n",
    "\n",
    "<hr>"
   ]
  },
  {
   "cell_type": "markdown",
   "metadata": {},
   "source": [
    "<hr>\n",
    "\n",
    "# Question 4:\n",
    "\n",
    "Write the Python program to find the first appearance of the\n",
    "substring 'not' and 'poor' from the given string, if 'not' follows the 'poor',\n",
    "replace the whole 'not'...' poor' substring with 'good'.Return the resulting\n",
    "string\n",
    "\n",
    "<pre>\n",
    "Sample string: 'The lyrics are not that poor!'\n",
    " 'The lyrics are poor!'\n",
    " Expected Result: 'The lyrics are good!'\n",
    " 'The lyrics are poor!'\n",
    "</pre>\n",
    "\n",
    "<hr>"
   ]
  },
  {
   "cell_type": "markdown",
   "metadata": {},
   "source": [
    "<hr>\n",
    "\n",
    "# Question 5:\n",
    "\n",
    "Write the Python program to remove the characters which have odd\n",
    " index values of a given string.\n",
    "\n",
    "\n",
    "\n",
    "<hr>"
   ]
  },
  {
   "cell_type": "markdown",
   "metadata": {},
   "source": [
    "<hr>\n",
    "\n",
    "# Question 6:\n",
    "\n",
    "Write the Python function to get a string made of 4 copies of the last\n",
    " two characters of the specified string (length must be at least 2).\n",
    "\n",
    "<pre>\n",
    " Sample function and result :\n",
    " insert-end ('Python') -> abababab\n",
    " insert-end('Exercises') -> jkjkjkjk\n",
    "</pre>\n",
    "\n",
    "<hr>"
   ]
  },
  {
   "cell_type": "markdown",
   "metadata": {},
   "source": [
    "<hr>\n",
    "\n",
    "# Question 7:\n",
    "\n",
    "Write the python function to get a string made of its first three\n",
    "  characters of a specified string. If\n",
    "the length of the string is less than 3\n",
    " then return the original string.\n",
    "\n",
    "<pre>\n",
    "Sample function and result :\n",
    " first-three('ipy') -> ipy\n",
    " first-three('python') -> pyt\n",
    "    \n",
    "</pre>\n",
    "\n",
    "<hr>"
   ]
  },
  {
   "cell_type": "markdown",
   "metadata": {},
   "source": [
    "<hr>\n",
    "\n",
    "# Question 8:\n",
    "\n",
    "Write the python program to print the following floating numbers up to 2 decimal places?\n",
    "\n",
    "<hr>"
   ]
  },
  {
   "cell_type": "markdown",
   "metadata": {},
   "source": [
    "<hr>\n",
    "\n",
    "# Question 9:\n",
    "\n",
    "Write the Python program to format a number with a percentage?\n",
    "\n",
    "\n",
    "<hr>"
   ]
  },
  {
   "cell_type": "markdown",
   "metadata": {},
   "source": [
    "<hr>\n",
    "\n",
    "# Question 10:\n",
    "\n",
    "Write the Python program to count occurrences of a substring in a String?\n",
    "\n",
    "\n",
    "<hr>"
   ]
  },
  {
   "cell_type": "markdown",
   "metadata": {},
   "source": [
    "<hr>\n",
    "\n",
    "# Question 11:\n",
    "\n",
    "Write the Python program to count repeated characters in a string.\n",
    "\n",
    "<pre>\n",
    " Sample string: ' thequickbrownjumpsoverthelazydog '\n",
    " \n",
    " Output :\n",
    " o3 e3 u2 h2 r2 t2\n",
    "    \n",
    "</pre>\n",
    "\n",
    "<hr>"
   ]
  },
  {
   "cell_type": "markdown",
   "metadata": {},
   "source": [
    "<hr>\n",
    "\n",
    "# Question 12:\n",
    "\n",
    "Write the Python program to print the square and cube symbol in the area of a rectangle and volume of a cylinder?\n",
    "\n",
    "<pre>\n",
    " Sample output-\n",
    " The area of the rectangle is 1256.66cm2\n",
    " The volume of the cylinder is 1254.725cm3\n",
    "    \n",
    "</pre>\n",
    "\n",
    "<hr>"
   ]
  },
  {
   "cell_type": "markdown",
   "metadata": {},
   "source": [
    "<hr>\n",
    "\n",
    "# Question 13:\n",
    "\n",
    "Write the Python program to check if a string contains all letters of the alphabet?\n",
    "\n",
    "\n",
    "\n",
    "<hr>"
   ]
  },
  {
   "cell_type": "markdown",
   "metadata": {},
   "source": [
    "<hr>\n",
    "\n",
    "# Question 14:\n",
    "\n",
    "Write the Python program to find the second most repeated word in a given string?\n",
    "\n",
    "\n",
    "<hr>"
   ]
  },
  {
   "cell_type": "markdown",
   "metadata": {},
   "source": [
    "<hr>\n",
    "\n",
    "# Question 15:\n",
    "\n",
    "Write the Python program to find the minimum window in the given string, which will contains all the characters of another given strings?\n",
    "\n",
    "<pre>\n",
    "\n",
    " Example 1\n",
    " Input : string1 = \" PRWSOERIUSFK \"\n",
    " string2 = \" OSU \"\n",
    " Output: Minimum window is \"OERIUS\"\n",
    "    \n",
    "</pre>\n",
    "\n",
    "<hr>"
   ]
  },
  {
   "cell_type": "markdown",
   "metadata": {},
   "source": [
    "<hr>\n",
    "\n",
    "# Question 1:\n",
    "\n",
    "Write a Python program to get the string from the given string where\n",
    " all the occurrence of its first char has been changed to '$,' except first\n",
    " char itself?\n",
    "\n",
    "<pre>\n",
    " Sample String: 'prospect'\n",
    " Expected Result : 'pros$ect'\n",
    "    \n",
    "</pre>\n",
    "\n",
    "<hr>"
   ]
  },
  {
   "cell_type": "markdown",
   "metadata": {},
   "source": [
    "<hr>\n",
    "\n",
    "# Question 2:\n",
    "\n",
    "Write a Python program to get the single string from the two given\n",
    " strings, and separated by the space and swap the first two characters of\n",
    " each string?\n",
    "\n",
    "<pre>\n",
    "Sample String : 'abc', 'xyz'. \n",
    "Expected Result: 'xyc abz'\n",
    "    \n",
    "</pre>\n",
    "\n",
    "<hr>"
   ]
  },
  {
   "cell_type": "markdown",
   "metadata": {},
   "source": [
    "<hr>\n",
    "\n",
    "# Question 3:\n",
    "\n",
    "Write the Python program to add 'ing' at the end of the given string\n",
    "(length of the string should be at least 3). If given string already ends\n",
    "with 'ing,' then add 'ly' instead. If string length of the given string is less\n",
    "than 3, leave it unchanged?\n",
    "\n",
    "<pre>\n",
    "Sample string: ' abc '\n",
    "Expectedresult: 'abcing'\n",
    "Samplestring: 'string'\n",
    "Expectedresult: 'stringly'\n",
    "\n",
    "</pre>\n",
    "\n",
    "<hr>"
   ]
  },
  {
   "cell_type": "markdown",
   "metadata": {},
   "source": [
    "<hr>\n",
    "\n",
    "# Question 4:\n",
    "\n",
    "Write the Python program to find the first appearance of the\n",
    "substring 'not' and 'poor' from the given string, if 'not' follows the 'poor',\n",
    "replace the whole 'not'...' poor' substring with 'good'.Return the resulting\n",
    "string\n",
    "\n",
    "<pre>\n",
    "Sample string: 'The lyrics are not that poor!'\n",
    " 'The lyrics are poor!'\n",
    " Expected Result: 'The lyrics are good!'\n",
    " 'The lyrics are poor!'\n",
    "</pre>\n",
    "\n",
    "<hr>"
   ]
  },
  {
   "cell_type": "markdown",
   "metadata": {},
   "source": [
    "<hr>\n",
    "\n",
    "# Question 5:\n",
    "\n",
    "Write the Python program to remove the characters which have odd\n",
    " index values of a given string.\n",
    "\n",
    "\n",
    "\n",
    "<hr>"
   ]
  },
  {
   "cell_type": "markdown",
   "metadata": {},
   "source": [
    "<hr>\n",
    "\n",
    "# Question 6:\n",
    "\n",
    "Write the Python function to get a string made of 4 copies of the last\n",
    " two characters of the specified string (length must be at least 2).\n",
    "\n",
    "<pre>\n",
    " Sample function and result :\n",
    " insert-end ('Python') -> abababab\n",
    " insert-end('Exercises') -> jkjkjkjk\n",
    "</pre>\n",
    "\n",
    "<hr>"
   ]
  },
  {
   "cell_type": "markdown",
   "metadata": {},
   "source": [
    "<hr>\n",
    "\n",
    "# Question 7:\n",
    "\n",
    "Write the python function to get a string made of its first three\n",
    "  characters of a specified string. If\n",
    "the length of the string is less than 3\n",
    " then return the original string.\n",
    "\n",
    "<pre>\n",
    "Sample function and result :\n",
    " first-three('ipy') -> ipy\n",
    " first-three('python') -> pyt\n",
    "    \n",
    "</pre>\n",
    "\n",
    "<hr>"
   ]
  },
  {
   "cell_type": "markdown",
   "metadata": {},
   "source": [
    "<hr>\n",
    "\n",
    "# Question 8:\n",
    "\n",
    "Write the python program to print the following floating numbers up to 2 decimal places?\n",
    "\n",
    "<hr>"
   ]
  },
  {
   "cell_type": "markdown",
   "metadata": {},
   "source": [
    "<hr>\n",
    "\n",
    "# Question 9:\n",
    "\n",
    "Write the Python program to format a number with a percentage?\n",
    "\n",
    "\n",
    "<hr>"
   ]
  },
  {
   "cell_type": "markdown",
   "metadata": {},
   "source": [
    "<hr>\n",
    "\n",
    "# Question 10:\n",
    "\n",
    "Write the Python program to count occurrences of a substring in a String?\n",
    "\n",
    "\n",
    "<hr>"
   ]
  },
  {
   "cell_type": "markdown",
   "metadata": {},
   "source": [
    "<hr>\n",
    "\n",
    "# Question 11:\n",
    "\n",
    "Write the Python program to count repeated characters in a string.\n",
    "\n",
    "<pre>\n",
    " Sample string: ' thequickbrownjumpsoverthelazydog '\n",
    " \n",
    " Output :\n",
    " o3 e3 u2 h2 r2 t2\n",
    "    \n",
    "</pre>\n",
    "\n",
    "<hr>"
   ]
  },
  {
   "cell_type": "markdown",
   "metadata": {},
   "source": [
    "<hr>\n",
    "\n",
    "# Question 12:\n",
    "\n",
    "Write the Python program to print the square and cube symbol in the area of a rectangle and volume of a cylinder?\n",
    "\n",
    "<pre>\n",
    " Sample output-\n",
    " The area of the rectangle is 1256.66cm2\n",
    " The volume of the cylinder is 1254.725cm3\n",
    "    \n",
    "</pre>\n",
    "\n",
    "<hr>"
   ]
  },
  {
   "cell_type": "markdown",
   "metadata": {},
   "source": [
    "<hr>\n",
    "\n",
    "# Question 13:\n",
    "\n",
    "Write the Python program to check if a string contains all letters of the alphabet?\n",
    "\n",
    "\n",
    "\n",
    "<hr>"
   ]
  },
  {
   "cell_type": "markdown",
   "metadata": {},
   "source": [
    "<hr>\n",
    "\n",
    "# Question 14:\n",
    "\n",
    "Write the Python program to find the second most repeated word in a given string?\n",
    "\n",
    "\n",
    "<hr>"
   ]
  },
  {
   "cell_type": "markdown",
   "metadata": {},
   "source": [
    "<hr>\n",
    "\n",
    "# Question 15:\n",
    "\n",
    "Write the Python program to find the minimum window in the given string, which will contains all the characters of another given strings?\n",
    "\n",
    "<pre>\n",
    "\n",
    " Example 1\n",
    " Input : string1 = \" PRWSOERIUSFK \"\n",
    " string2 = \" OSU \"\n",
    " Output: Minimum window is \"OERIUS\"\n",
    "    \n",
    "</pre>\n",
    "\n",
    "<hr>"
   ]
  },
  {
   "cell_type": "markdown",
   "metadata": {},
   "source": [
    "<hr>\n",
    "\n",
    "# Question 1:\n",
    "\n",
    "Write a Python program to get the string from the given string where\n",
    " all the occurrence of its first char has been changed to '$,' except first\n",
    " char itself?\n",
    "\n",
    "<pre>\n",
    " Sample String: 'prospect'\n",
    " Expected Result : 'pros$ect'\n",
    "    \n",
    "</pre>\n",
    "\n",
    "<hr>"
   ]
  },
  {
   "cell_type": "markdown",
   "metadata": {},
   "source": [
    "<hr>\n",
    "\n",
    "# Question 2:\n",
    "\n",
    "Write a Python program to get the single string from the two given\n",
    " strings, and separated by the space and swap the first two characters of\n",
    " each string?\n",
    "\n",
    "<pre>\n",
    "Sample String : 'abc', 'xyz'. \n",
    "Expected Result: 'xyc abz'\n",
    "    \n",
    "</pre>\n",
    "\n",
    "<hr>"
   ]
  },
  {
   "cell_type": "markdown",
   "metadata": {},
   "source": [
    "<hr>\n",
    "\n",
    "# Question 3:\n",
    "\n",
    "Write the Python program to add 'ing' at the end of the given string\n",
    "(length of the string should be at least 3). If given string already ends\n",
    "with 'ing,' then add 'ly' instead. If string length of the given string is less\n",
    "than 3, leave it unchanged?\n",
    "\n",
    "<pre>\n",
    "Sample string: ' abc '\n",
    "Expectedresult: 'abcing'\n",
    "Samplestring: 'string'\n",
    "Expectedresult: 'stringly'\n",
    "\n",
    "</pre>\n",
    "\n",
    "<hr>"
   ]
  },
  {
   "cell_type": "markdown",
   "metadata": {},
   "source": [
    "<hr>\n",
    "\n",
    "# Question 4:\n",
    "\n",
    "Write the Python program to find the first appearance of the\n",
    "substring 'not' and 'poor' from the given string, if 'not' follows the 'poor',\n",
    "replace the whole 'not'...' poor' substring with 'good'.Return the resulting\n",
    "string\n",
    "\n",
    "<pre>\n",
    "Sample string: 'The lyrics are not that poor!'\n",
    " 'The lyrics are poor!'\n",
    " Expected Result: 'The lyrics are good!'\n",
    " 'The lyrics are poor!'\n",
    "</pre>\n",
    "\n",
    "<hr>"
   ]
  },
  {
   "cell_type": "markdown",
   "metadata": {},
   "source": [
    "<hr>\n",
    "\n",
    "# Question 5:\n",
    "\n",
    "Write the Python program to remove the characters which have odd\n",
    " index values of a given string.\n",
    "\n",
    "\n",
    "\n",
    "<hr>"
   ]
  },
  {
   "cell_type": "markdown",
   "metadata": {},
   "source": [
    "<hr>\n",
    "\n",
    "# Question 6:\n",
    "\n",
    "Write the Python function to get a string made of 4 copies of the last\n",
    " two characters of the specified string (length must be at least 2).\n",
    "\n",
    "<pre>\n",
    " Sample function and result :\n",
    " insert-end ('Python') -> abababab\n",
    " insert-end('Exercises') -> jkjkjkjk\n",
    "</pre>\n",
    "\n",
    "<hr>"
   ]
  },
  {
   "cell_type": "markdown",
   "metadata": {},
   "source": [
    "<hr>\n",
    "\n",
    "# Question 7:\n",
    "\n",
    "Write the python function to get a string made of its first three\n",
    "  characters of a specified string. If\n",
    "the length of the string is less than 3\n",
    " then return the original string.\n",
    "\n",
    "<pre>\n",
    "Sample function and result :\n",
    " first-three('ipy') -> ipy\n",
    " first-three('python') -> pyt\n",
    "    \n",
    "</pre>\n",
    "\n",
    "<hr>"
   ]
  },
  {
   "cell_type": "markdown",
   "metadata": {},
   "source": [
    "<hr>\n",
    "\n",
    "# Question 8:\n",
    "\n",
    "Write the python program to print the following floating numbers up to 2 decimal places?\n",
    "\n",
    "<hr>"
   ]
  },
  {
   "cell_type": "markdown",
   "metadata": {},
   "source": [
    "<hr>\n",
    "\n",
    "# Question 9:\n",
    "\n",
    "Write the Python program to format a number with a percentage?\n",
    "\n",
    "\n",
    "<hr>"
   ]
  },
  {
   "cell_type": "markdown",
   "metadata": {},
   "source": [
    "<hr>\n",
    "\n",
    "# Question 10:\n",
    "\n",
    "Write the Python program to count occurrences of a substring in a String?\n",
    "\n",
    "\n",
    "<hr>"
   ]
  },
  {
   "cell_type": "markdown",
   "metadata": {},
   "source": [
    "<hr>\n",
    "\n",
    "# Question 11:\n",
    "\n",
    "Write the Python program to count repeated characters in a string.\n",
    "\n",
    "<pre>\n",
    " Sample string: ' thequickbrownjumpsoverthelazydog '\n",
    " \n",
    " Output :\n",
    " o3 e3 u2 h2 r2 t2\n",
    "    \n",
    "</pre>\n",
    "\n",
    "<hr>"
   ]
  },
  {
   "cell_type": "markdown",
   "metadata": {},
   "source": [
    "<hr>\n",
    "\n",
    "# Question 12:\n",
    "\n",
    "Write the Python program to print the square and cube symbol in the area of a rectangle and volume of a cylinder?\n",
    "\n",
    "<pre>\n",
    " Sample output-\n",
    " The area of the rectangle is 1256.66cm2\n",
    " The volume of the cylinder is 1254.725cm3\n",
    "    \n",
    "</pre>\n",
    "\n",
    "<hr>"
   ]
  },
  {
   "cell_type": "markdown",
   "metadata": {},
   "source": [
    "<hr>\n",
    "\n",
    "# Question 13:\n",
    "\n",
    "Write the Python program to check if a string contains all letters of the alphabet?\n",
    "\n",
    "\n",
    "\n",
    "<hr>"
   ]
  },
  {
   "cell_type": "markdown",
   "metadata": {},
   "source": [
    "<hr>\n",
    "\n",
    "# Question 14:\n",
    "\n",
    "Write the Python program to find the second most repeated word in a given string?\n",
    "\n",
    "\n",
    "<hr>"
   ]
  },
  {
   "cell_type": "markdown",
   "metadata": {},
   "source": [
    "<hr>\n",
    "\n",
    "# Question 15:\n",
    "\n",
    "Write the Python program to find the minimum window in the given string, which will contains all the characters of another given strings?\n",
    "\n",
    "<pre>\n",
    "\n",
    " Example 1\n",
    " Input : string1 = \" PRWSOERIUSFK \"\n",
    " string2 = \" OSU \"\n",
    " Output: Minimum window is \"OERIUS\"\n",
    "    \n",
    "</pre>\n",
    "\n",
    "<hr>"
   ]
  },
  {
   "cell_type": "markdown",
   "metadata": {},
   "source": [
    "<hr>\n",
    "\n",
    "# Question 1:\n",
    "\n",
    "Write a Python program to get the string from the given string where\n",
    " all the occurrence of its first char has been changed to '$,' except first\n",
    " char itself?\n",
    "\n",
    "<pre>\n",
    " Sample String: 'prospect'\n",
    " Expected Result : 'pros$ect'\n",
    "    \n",
    "</pre>\n",
    "\n",
    "<hr>"
   ]
  },
  {
   "cell_type": "markdown",
   "metadata": {},
   "source": [
    "<hr>\n",
    "\n",
    "# Question 2:\n",
    "\n",
    "Write a Python program to get the single string from the two given\n",
    " strings, and separated by the space and swap the first two characters of\n",
    " each string?\n",
    "\n",
    "<pre>\n",
    "Sample String : 'abc', 'xyz'. \n",
    "Expected Result: 'xyc abz'\n",
    "    \n",
    "</pre>\n",
    "\n",
    "<hr>"
   ]
  },
  {
   "cell_type": "markdown",
   "metadata": {},
   "source": [
    "<hr>\n",
    "\n",
    "# Question 3:\n",
    "\n",
    "Write the Python program to add 'ing' at the end of the given string\n",
    "(length of the string should be at least 3). If given string already ends\n",
    "with 'ing,' then add 'ly' instead. If string length of the given string is less\n",
    "than 3, leave it unchanged?\n",
    "\n",
    "<pre>\n",
    "Sample string: ' abc '\n",
    "Expectedresult: 'abcing'\n",
    "Samplestring: 'string'\n",
    "Expectedresult: 'stringly'\n",
    "\n",
    "</pre>\n",
    "\n",
    "<hr>"
   ]
  },
  {
   "cell_type": "markdown",
   "metadata": {},
   "source": [
    "<hr>\n",
    "\n",
    "# Question 4:\n",
    "\n",
    "Write the Python program to find the first appearance of the\n",
    "substring 'not' and 'poor' from the given string, if 'not' follows the 'poor',\n",
    "replace the whole 'not'...' poor' substring with 'good'.Return the resulting\n",
    "string\n",
    "\n",
    "<pre>\n",
    "Sample string: 'The lyrics are not that poor!'\n",
    " 'The lyrics are poor!'\n",
    " Expected Result: 'The lyrics are good!'\n",
    " 'The lyrics are poor!'\n",
    "</pre>\n",
    "\n",
    "<hr>"
   ]
  },
  {
   "cell_type": "markdown",
   "metadata": {},
   "source": [
    "<hr>\n",
    "\n",
    "# Question 5:\n",
    "\n",
    "Write the Python program to remove the characters which have odd\n",
    " index values of a given string.\n",
    "\n",
    "\n",
    "\n",
    "<hr>"
   ]
  },
  {
   "cell_type": "markdown",
   "metadata": {},
   "source": [
    "<hr>\n",
    "\n",
    "# Question 6:\n",
    "\n",
    "Write the Python function to get a string made of 4 copies of the last\n",
    " two characters of the specified string (length must be at least 2).\n",
    "\n",
    "<pre>\n",
    " Sample function and result :\n",
    " insert-end ('Python') -> abababab\n",
    " insert-end('Exercises') -> jkjkjkjk\n",
    "</pre>\n",
    "\n",
    "<hr>"
   ]
  },
  {
   "cell_type": "markdown",
   "metadata": {},
   "source": [
    "<hr>\n",
    "\n",
    "# Question 7:\n",
    "\n",
    "Write the python function to get a string made of its first three\n",
    "  characters of a specified string. If\n",
    "the length of the string is less than 3\n",
    " then return the original string.\n",
    "\n",
    "<pre>\n",
    "Sample function and result :\n",
    " first-three('ipy') -> ipy\n",
    " first-three('python') -> pyt\n",
    "    \n",
    "</pre>\n",
    "\n",
    "<hr>"
   ]
  },
  {
   "cell_type": "markdown",
   "metadata": {},
   "source": [
    "<hr>\n",
    "\n",
    "# Question 8:\n",
    "\n",
    "Write the python program to print the following floating numbers up to 2 decimal places?\n",
    "\n",
    "<hr>"
   ]
  },
  {
   "cell_type": "markdown",
   "metadata": {},
   "source": [
    "<hr>\n",
    "\n",
    "# Question 9:\n",
    "\n",
    "Write the Python program to format a number with a percentage?\n",
    "\n",
    "\n",
    "<hr>"
   ]
  },
  {
   "cell_type": "markdown",
   "metadata": {},
   "source": [
    "<hr>\n",
    "\n",
    "# Question 10:\n",
    "\n",
    "Write the Python program to count occurrences of a substring in a String?\n",
    "\n",
    "\n",
    "<hr>"
   ]
  },
  {
   "cell_type": "markdown",
   "metadata": {},
   "source": [
    "<hr>\n",
    "\n",
    "# Question 11:\n",
    "\n",
    "Write the Python program to count repeated characters in a string.\n",
    "\n",
    "<pre>\n",
    " Sample string: ' thequickbrownjumpsoverthelazydog '\n",
    " \n",
    " Output :\n",
    " o3 e3 u2 h2 r2 t2\n",
    "    \n",
    "</pre>\n",
    "\n",
    "<hr>"
   ]
  },
  {
   "cell_type": "markdown",
   "metadata": {},
   "source": [
    "<hr>\n",
    "\n",
    "# Question 12:\n",
    "\n",
    "Write the Python program to print the square and cube symbol in the area of a rectangle and volume of a cylinder?\n",
    "\n",
    "<pre>\n",
    " Sample output-\n",
    " The area of the rectangle is 1256.66cm2\n",
    " The volume of the cylinder is 1254.725cm3\n",
    "    \n",
    "</pre>\n",
    "\n",
    "<hr>"
   ]
  },
  {
   "cell_type": "markdown",
   "metadata": {},
   "source": [
    "<hr>\n",
    "\n",
    "# Question 13:\n",
    "\n",
    "Write the Python program to check if a string contains all letters of the alphabet?\n",
    "\n",
    "\n",
    "\n",
    "<hr>"
   ]
  },
  {
   "cell_type": "markdown",
   "metadata": {},
   "source": [
    "<hr>\n",
    "\n",
    "# Question 14:\n",
    "\n",
    "Write the Python program to find the second most repeated word in a given string?\n",
    "\n",
    "\n",
    "<hr>"
   ]
  },
  {
   "cell_type": "markdown",
   "metadata": {},
   "source": [
    "<hr>\n",
    "\n",
    "# Question 15:\n",
    "\n",
    "Write the Python program to find the minimum window in the given string, which will contains all the characters of another given strings?\n",
    "\n",
    "<pre>\n",
    "\n",
    " Example 1\n",
    " Input : string1 = \" PRWSOERIUSFK \"\n",
    " string2 = \" OSU \"\n",
    " Output: Minimum window is \"OERIUS\"\n",
    "    \n",
    "</pre>\n",
    "\n",
    "<hr>"
   ]
  },
  {
   "cell_type": "markdown",
   "metadata": {},
   "source": []
  },
  {
   "cell_type": "markdown",
   "metadata": {},
   "source": []
  },
  {
   "cell_type": "markdown",
   "metadata": {},
   "source": []
  },
  {
   "cell_type": "markdown",
   "metadata": {},
   "source": []
  },
  {
   "cell_type": "markdown",
   "metadata": {},
   "source": []
  },
  {
   "cell_type": "markdown",
   "metadata": {},
   "source": []
  }
 ],
 "metadata": {
  "kernelspec": {
   "display_name": "Python 3",
   "language": "python",
   "name": "python3"
  },
  "language_info": {
   "codemirror_mode": {
    "name": "ipython",
    "version": 3
   },
   "file_extension": ".py",
   "mimetype": "text/x-python",
   "name": "python",
   "nbconvert_exporter": "python",
   "pygments_lexer": "ipython3",
   "version": "3.8.1"
  }
 },
 "nbformat": 4,
 "nbformat_minor": 4
}
