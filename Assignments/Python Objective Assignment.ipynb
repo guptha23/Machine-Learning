{
 "cells": [
  {
   "cell_type": "markdown",
   "metadata": {},
   "source": [
    "1) a) Bypassing the given list to the iter() function\n",
    "\n",
    "2) b) a generator function\n",
    "\n",
    "3) b)1 9\n",
    "\n",
    "4) d) All of the above. --> Closure needs to have enclosed function and it should return nested function's result.\n",
    "\n",
    "5) d) 50\n",
    "\n",
    "6)  c) I got decorated\n",
    "    I am ordinary\n",
    "    \n",
    "7) d) @property --> more pythonic way to use getters and setters.\n",
    "\n",
    "8) b) getter(), setter(), delete()\n",
    "\n",
    "9) d) None of the above\n",
    "\n",
    "10) b) BothprintHello()andthereferencetothesameobject.\n",
    "\n",
    "11) c) a = 20\n",
    "\n",
    "12) a) Class is blue print of the object.\n",
    "\n",
    "13) c) java\n",
    "\n",
    "14) b) The function is called, when new object is created.\n",
    "\n",
    "15) b) 1 1\n",
    "\n",
    "16) c) Uses inheritance.\n",
    "\n",
    "17) b) Multiple Inheritance\n",
    "\n",
    "18) d) All --> Behaviour can be changed using dunder methods.\n",
    "\n",
    "19) b) 4 6\n",
    "\n",
    "20) c) opens for appending at end of file.\n",
    "\n",
    "21) b) opens file in reading mode by default.\n",
    "\n",
    "22) d) with closes the file automatically by calling __exit__ defined. So both with anf f.close() closes the file.\n",
    "\n",
    "23) d) All of them are true for read method.\n",
    "\n",
    "24) c) prints all the directories and files inside given directory.\n",
    "\n",
    "25) d) all of the above.\n",
    "\n",
    "26) c) Exception is raised if we open a file and if it doesn't exist.\n",
    "    New file is created if opend in write mode.\n",
    "    \n",
    "27) b) 2.0\n",
    "\n",
    "28) c) prints if any of the specified exception occurs.\n",
    "\n",
    "29) b) You can create user defined exception by deriving from Exception class.\n",
    "\n",
    "30) c) Function is a piece of code that performs a specific task.\n",
    "\n",
    "31) b) Python is awesome\n",
    "\n",
    "32) b) None --> Function returns None if return is notr specified.\n",
    "\n",
    "33) b) Hello ('Frodo', 'Sauron')\n",
    "\n",
    "34) b) A function that calls itself.\n",
    "\n",
    "35) c) 25\n",
    "\n",
    "36) a) 10\n",
    "\n",
    "37) c) That syntax is correct.\n",
    "\n",
    "38) b) * to import all packages.\n",
    "\n",
    "39) b) (1,3,6)\n",
    "\n",
    "40) c) Nothing will be printed\n",
    "\n",
    "41) a) True --> if--elif--else prints only one block.\n",
    "\n",
    "42) a) 2 1\n",
    "\n",
    "43) c) Both loops can have optional else statement --> that executes if loop is not entered even once.\n",
    "\n",
    "44) b) 10\n",
    "\n",
    "45) c) 4 is printed infinite number of times\n",
    "\n",
    "46) a) No, it's better to use while loop --> for lopp is translated to while loop in background and checks for stopIteration.\n",
    "\n",
    "47) d) All of the above are true with break, continue.\n",
    "\n",
    "48) a) PYTHON --> if char is \" \" (space)\n",
    "    \n",
    "49) c) pass is used as place holder and replaced by No operation.\n",
    "\n",
    "50) c) , and \\t used to seprate column data\n",
    "\n",
    "51) a) First row contains columns of data.\n",
    "\n",
    "52) b) csv.reader(my_data,delimiter=\"\\t\")\n",
    "\n",
    "53) a) Full line of file as a string.\n",
    "\n",
    "54) c) Each key must match up to the field names (column names) used to identify the column data\n",
    "\n",
    "55) c) pandas.read_csv()\n",
    "\n",
    "56) a) pandas.read_csv(\"hrvdata.csv\",index_col=\"Name\")\n",
    "\n",
    "57) b) open('dog_breeds.txt','r') and c) open('dog_breeds.txt) also opens in read mode.\n",
    "\n",
    "58) animals/feline\n",
    "\n",
    "59) a) open('jack_russell.png', 'rb')\n",
    "\n",
    "60) animals/ursine/bears.gif\n",
    "\n",
    "61) d) By using with statement as file follows context management protocol.\n",
    "\n",
    "62) ../ursine/bears.gif\n",
    "\n",
    "63) c) .readlines()\n",
    "\n",
    "64) b) 1.7\n",
    "\n",
    "65) a) -2.96\n",
    "\n",
    "66) b) Positive numbers are rounded down and negative numbers are rounded up in truncate method of python.\n",
    "\n",
    "67) a) -0.05\n",
    "\n",
    "68) b) round half to even --> python strategy for round.\n",
    "\n",
    "69) b) 4.7 --> In python3\n",
    "\n",
    "70) a) Diamond problem occurs for multiple inheritance.\n",
    "\n",
    "71) c) At least 3\n",
    "\n",
    "72) a) class a \n",
    "\n",
    "73) a) There won't be any use of multiple inheritance.\n",
    "\n",
    "74) b) Yes, if all functions are implemented\n",
    "\n",
    "75) d) classes which have more than one parent.\n",
    "\n",
    "76) a) A\n",
    "\n",
    "77) c) class at 5th level\n",
    "\n",
    "78) d) as many as required (better not to use more than two).\n",
    "\n",
    "79) c) object of lower classes should define default constructors.\n",
    "\n",
    "80) d) Exceptions\n",
    "\n",
    "81) c) Run time exceptions and other exceptions.\n",
    "\n",
    "82) a) try and catch\n",
    "\n",
    "83) a) an object must be created to catch exception.\n",
    "\n",
    "84) c) IOException --> java IoError(Python)\n",
    "\n",
    "85) d) both base and derived class produce exceptions.\n",
    "\n",
    "86) a) catch block of derived class appears before base class.\n",
    "\n",
    "87) a) catching base class exception before derived class is not allowed by compiler in java.\n",
    "\n",
    "88) d) ClassNotFoundException\n",
    "\n",
    "89) c) Both base and derived class catch blocks are important\n",
    "\n",
    "90) c) Infinite loops.\n",
    "\n",
    "91) a) Functions created to allocate constant values of each object.\n",
    "\n",
    "92) a) having access to all members of a class.\n",
    "\n",
    "93) a) classname.functionanme\n",
    "\n",
    "94) d) created and initialised only once.\n",
    "\n",
    "95) b) static members can't be overloaded.\n",
    "\n",
    "96) d) can't be declared const, volatile, const volatile\n",
    "\n",
    "97) c) single colon\n",
    "\n",
    "98) a) should be initialised outside the class.\n",
    "\n",
    "99) b) can't be mutable\n",
    "\n",
    "100) a) even if a class object is not created\n",
    "\n",
    "101) c) rpy work on top of numpy\n",
    "\n",
    "102) a) reshape,resize\n",
    "\n",
    "103) a) arrange\n",
    "\n",
    "104) d) all of the above.\n",
    "\n",
    "105) b) column_stack\n",
    "\n",
    "106) a) True\n",
    "\n",
    "107) a) view\n",
    "\n",
    "108) b) ix_\n",
    "\n",
    "109) b) False\n",
    "\n",
    "110) a) ndimensional array\n",
    "\n",
    "111) c) setbufsize(size)\n",
    "\n",
    "112) d) all of the above\n",
    "\n",
    "113) b).type\n",
    "\n",
    "114) b) ones_like\n",
    "\n",
    "115) b) Broadcasting is used throughout \n",
    "\n",
    "116) b) settercall\n",
    "\n",
    "117) a) False\n",
    "\n",
    "118) c) frexp\n",
    "\n",
    "119) a) iscomplex\n",
    "\n",
    "120) a) True\n",
    "\n",
    "121) b) value, size\n",
    "\n",
    "122) d) all of the above.\n",
    "\n",
    "123) a) import pandas as pd\n",
    "\n",
    "124) a) data frame\n",
    "\n",
    "125) c) panel is 2D labelled\n",
    "\n",
    "126) a) numpy\n",
    "\n",
    "127) b) false\n",
    "\n",
    "128) c) statsmodels\n",
    "\n",
    "129) a) yhat\n",
    "\n",
    "130) a) True\n",
    "\n",
    "131) a) Quandl\n",
    "\n",
    "132) a) Statsmodels provides powerful statistics, econometrics, analysis and the modelling functionality which is out of pandas’ scope\n",
    "\n",
    "133) a) pandaSMDX\n",
    "\n",
    "134) a) Blaze\n",
    "\n",
    "135) c) Spyder is a R ide\n",
    "\n",
    "136) b) freedapi\n",
    "\n",
    "137) b) False\n",
    "\n",
    "138) a) scikitlearn\n",
    "\n",
    "139) b) seaborn\n",
    "\n",
    "140) a) True\n",
    "\n",
    "141) b) SparseArray\n",
    "\n",
    "142) d) All of the above\n",
    "\n",
    "143) d) None of the mentioned\n",
    "\n",
    "144) a) sparse list\n",
    "\n",
    "145) a) to_array. append can accept scalar values or any 2-D sequence.\n",
    "\n",
    "146) a) SparseSeries.to_coo()\n",
    "\n",
    "147) b) False\n",
    "\n",
    "148) a) in\n",
    "\n",
    "149) b) ix\n",
    "\n",
    "150) a) True"
   ]
  },
  {
   "cell_type": "code",
   "execution_count": 1,
   "metadata": {},
   "outputs": [
    {
     "name": "stdout",
     "output_type": "stream",
     "text": [
      "1 9\n"
     ]
    }
   ],
   "source": [
    "mylist = [1, 3, 6, 10]\n",
    "# This generates generator by default.\n",
    "a = (x**2 for x in mylist)\n",
    "print(next(a), next(a))"
   ]
  },
  {
   "cell_type": "code",
   "execution_count": 3,
   "metadata": {},
   "outputs": [
    {
     "name": "stdout",
     "output_type": "stream",
     "text": [
      "<function Foo.<locals>.multiplier at 0x1112923a0>\n",
      "<function Foo.<locals>.multiplier at 0x111292700>\n",
      "50\n"
     ]
    }
   ],
   "source": [
    "def Foo(n):\n",
    "    def multiplier(x):\n",
    "        return x*n\n",
    "    return multiplier\n",
    "\n",
    "# Here a, b becomes multiplier\n",
    "a = Foo(5)\n",
    "b = Foo(5)\n",
    "\n",
    "print(a)\n",
    "\n",
    "print(b)\n",
    "\n",
    "# multiplier(multiplier(2))\n",
    "print(a(b(2)))"
   ]
  },
  {
   "cell_type": "code",
   "execution_count": 4,
   "metadata": {},
   "outputs": [
    {
     "name": "stdout",
     "output_type": "stream",
     "text": [
      "I got decorated\n",
      "I am ordinary\n"
     ]
    }
   ],
   "source": [
    "def make_pretty(func):\n",
    "    def inner():\n",
    "        print(\"I got decorated\")\n",
    "        func()\n",
    "    return inner\n",
    "\n",
    "def ordinary():\n",
    "    print(\"I am ordinary\")\n",
    "\n",
    "pretty = make_pretty(ordinary)\n",
    "pretty()"
   ]
  },
  {
   "cell_type": "code",
   "execution_count": 5,
   "metadata": {},
   "outputs": [
    {
     "name": "stdout",
     "output_type": "stream",
     "text": [
      "Hello\n",
      "4544568928\n",
      "Hello\n",
      "4544568928\n"
     ]
    }
   ],
   "source": [
    "def printHello():\n",
    "    print(\"Hello\")\n",
    "    \n",
    "a = printHello()\n",
    "\n",
    "print(id(a))\n",
    "\n",
    "print(id(printHello()))\n",
    "\n",
    "# As we can see id of both functions pointing to same location in memory\n",
    "# Both are pointing to same object."
   ]
  },
  {
   "cell_type": "code",
   "execution_count": 6,
   "metadata": {},
   "outputs": [
    {
     "name": "stdout",
     "output_type": "stream",
     "text": [
      " a=  20\n"
     ]
    }
   ],
   "source": [
    "def outer():\n",
    "    global a\n",
    "    # value of outer var is changed to 20\n",
    "    a = 20\n",
    "    # inner() is defined but not called.\n",
    "    def inner():\n",
    "        # Poin ting to global instance.\n",
    "        global a\n",
    "        a = 30\n",
    "        print(\"a = \", a)\n",
    "        \n",
    "a = 10\n",
    "\n",
    "# outer is called\n",
    "outer()\n",
    "# So value of 20 is printed.\n",
    "print(\" a= \",a)"
   ]
  },
  {
   "cell_type": "code",
   "execution_count": 7,
   "metadata": {},
   "outputs": [
    {
     "name": "stdout",
     "output_type": "stream",
     "text": [
      "Java\n"
     ]
    }
   ],
   "source": [
    "class Foo:\n",
    "    def printLine(self, line=\"Python\"):\n",
    "        print(line)\n",
    "        \n",
    "\n",
    "o1 = Foo()\n",
    "\n",
    "# java will be printed\n",
    "o1.printLine(\"Java\")"
   ]
  },
  {
   "cell_type": "code",
   "execution_count": 8,
   "metadata": {},
   "outputs": [
    {
     "name": "stdout",
     "output_type": "stream",
     "text": [
      "1 1\n"
     ]
    }
   ],
   "source": [
    "class Point:\n",
    "    def __init__(self, x=0, y=0):\n",
    "        self.x = x+1\n",
    "        self.y = y+1\n",
    "        \n",
    "p1 = Point()\n",
    "# 1 1 are printed\n",
    "print(p1.x, p1.y)"
   ]
  },
  {
   "cell_type": "code",
   "execution_count": 10,
   "metadata": {},
   "outputs": [
    {
     "name": "stdout",
     "output_type": "stream",
     "text": [
      "4 6\n"
     ]
    }
   ],
   "source": [
    "class Point:\n",
    "    \n",
    "    def __init__(self, x=0, y=0):\n",
    "        self.x = x\n",
    "        self.y = y\n",
    "    \n",
    "\n",
    "    def __sub__(self, other):\n",
    "        x = self.x + other.x\n",
    "        y = self.y + other.y\n",
    "        return Point(x, y)\n",
    "    \n",
    "p1 = Point(3,4)\n",
    "p2 = Point(1,2)\n",
    "\n",
    "# prints 4 6\n",
    "result = p1 - p2\n",
    "print(result.x, result.y)\n"
   ]
  },
  {
   "cell_type": "code",
   "execution_count": 11,
   "metadata": {},
   "outputs": [
    {
     "data": {
      "text/plain": [
       "['Untitled1.ipynb',\n",
       " 'Untitled.ipynb',\n",
       " 'Session 2 - Assignment 1.ipynb',\n",
       " 'Untitled-Copy1.ipynb',\n",
       " '.ipynb_checkpoints',\n",
       " 'Session 1 - Assignment1.ipynb',\n",
       " 'Session 3 - Assignment 1.ipynb',\n",
       " 'Assignment1.ipynb']"
      ]
     },
     "execution_count": 11,
     "metadata": {},
     "output_type": "execute_result"
    }
   ],
   "source": [
    "import os\n",
    "\n",
    "os.listdir()"
   ]
  },
  {
   "cell_type": "code",
   "execution_count": 12,
   "metadata": {},
   "outputs": [
    {
     "name": "stdout",
     "output_type": "stream",
     "text": [
      "2.0\n"
     ]
    }
   ],
   "source": [
    "number = 5.0\n",
    "\n",
    "try:\n",
    "    r = 10/number\n",
    "    print(r)\n",
    "    \n",
    "except:\n",
    "    print(\"oops\")"
   ]
  },
  {
   "cell_type": "code",
   "execution_count": 13,
   "metadata": {},
   "outputs": [
    {
     "name": "stdout",
     "output_type": "stream",
     "text": [
      "Python is awesome\n"
     ]
    }
   ],
   "source": [
    "def printline(text):\n",
    "    print(text, \"is awesome\")\n",
    "    \n",
    "printline(\"Python\")"
   ]
  },
  {
   "cell_type": "code",
   "execution_count": 16,
   "metadata": {},
   "outputs": [
    {
     "name": "stdout",
     "output_type": "stream",
     "text": [
      "Hello  ('A', 'B')\n"
     ]
    }
   ],
   "source": [
    "# name is a tuple that can take any number of arguments.\n",
    "def greet(*name):\n",
    "    print(\"Hello \",name)\n",
    "    \n",
    "greet(\"A\",\"B\")"
   ]
  },
  {
   "cell_type": "code",
   "execution_count": 17,
   "metadata": {},
   "outputs": [
    {
     "name": "stdout",
     "output_type": "stream",
     "text": [
      "25\n"
     ]
    }
   ],
   "source": [
    "# similar top function that takes x and returns x times x\n",
    "res = lambda x : x * x\n",
    "\n",
    "print(res(5))"
   ]
  },
  {
   "cell_type": "code",
   "execution_count": 18,
   "metadata": {},
   "outputs": [
    {
     "name": "stdout",
     "output_type": "stream",
     "text": [
      "10\n"
     ]
    }
   ],
   "source": [
    "def Foo(x):\n",
    "    if x == 1:\n",
    "        return 1\n",
    "    else:\n",
    "        # Recursive call that just do summation.\n",
    "        return x + Foo(x-1)\n",
    "    \n",
    "print(Foo(4))"
   ]
  },
  {
   "cell_type": "code",
   "execution_count": 19,
   "metadata": {},
   "outputs": [
    {
     "data": {
      "text/plain": [
       "(1, 3, 6)"
      ]
     },
     "execution_count": 19,
     "metadata": {},
     "output_type": "execute_result"
    }
   ],
   "source": [
    "numbers = [1,3,6]\n",
    "\n",
    "new_num = tuple(map(lambda x: x, numbers))\n",
    "\n",
    "new_num"
   ]
  },
  {
   "cell_type": "code",
   "execution_count": 20,
   "metadata": {},
   "outputs": [],
   "source": [
    "if None:\n",
    "    print(\"Hello\")"
   ]
  },
  {
   "cell_type": "code",
   "execution_count": 21,
   "metadata": {},
   "outputs": [
    {
     "name": "stdout",
     "output_type": "stream",
     "text": [
      "2\n",
      "1\n"
     ]
    }
   ],
   "source": [
    "for i in [1,0]:\n",
    "    print(i+1)"
   ]
  },
  {
   "cell_type": "code",
   "execution_count": 22,
   "metadata": {},
   "outputs": [
    {
     "name": "stdout",
     "output_type": "stream",
     "text": [
      "10\n"
     ]
    }
   ],
   "source": [
    "i = sum_ = 0\n",
    "\n",
    "while i <= 4:\n",
    "    sum_ += i\n",
    "    i += 1\n",
    "    \n",
    "print(sum_)"
   ]
  },
  {
   "cell_type": "code",
   "execution_count": 25,
   "metadata": {},
   "outputs": [
    {
     "name": "stdout",
     "output_type": "stream",
     "text": [
      "PYTHON"
     ]
    }
   ],
   "source": [
    "for char in \"PYTHON STRING\":\n",
    "    if char == \" \":\n",
    "        break\n",
    "        \n",
    "    print(char,end=\"\")\n",
    "    \n",
    "    if char == \"O\":\n",
    "        continue"
   ]
  },
  {
   "cell_type": "code",
   "execution_count": 27,
   "metadata": {},
   "outputs": [
    {
     "data": {
      "text/plain": [
       "<_csv.reader at 0x11401e510>"
      ]
     },
     "execution_count": 27,
     "metadata": {},
     "output_type": "execute_result"
    }
   ],
   "source": [
    "import csv\n",
    "\n",
    "csv.reader(\"abc\",delimiter=\"\\t\")"
   ]
  },
  {
   "cell_type": "code",
   "execution_count": 35,
   "metadata": {},
   "outputs": [
    {
     "data": {
      "text/plain": [
       "1.7"
      ]
     },
     "execution_count": 35,
     "metadata": {},
     "output_type": "execute_result"
    }
   ],
   "source": [
    "round(1.73,1)"
   ]
  },
  {
   "cell_type": "code",
   "execution_count": 32,
   "metadata": {},
   "outputs": [
    {
     "data": {
      "text/plain": [
       "-2.96"
      ]
     },
     "execution_count": 32,
     "metadata": {},
     "output_type": "execute_result"
    }
   ],
   "source": [
    "round(-2.961,2)"
   ]
  },
  {
   "cell_type": "code",
   "execution_count": 37,
   "metadata": {},
   "outputs": [
    {
     "data": {
      "text/plain": [
       "4.7"
      ]
     },
     "execution_count": 37,
     "metadata": {},
     "output_type": "execute_result"
    }
   ],
   "source": [
    "round(4.65,1)"
   ]
  },
  {
   "cell_type": "code",
   "execution_count": 58,
   "metadata": {},
   "outputs": [],
   "source": [
    "class B:\n",
    "    def __init__(self):\n",
    "        self.__b = 1\n",
    "        print(\"B\")\n",
    "        \n",
    "class C:\n",
    "    def __init__(self):\n",
    "        self.__c = 2\n",
    "        print(\"C\")\n",
    "\n",
    "class A(B,C):\n",
    "    def __init__(self):\n",
    "        print(\"A\")"
   ]
  },
  {
   "cell_type": "code",
   "execution_count": 50,
   "metadata": {},
   "outputs": [
    {
     "name": "stdout",
     "output_type": "stream",
     "text": [
      "A\n"
     ]
    }
   ],
   "source": [
    "a = A()"
   ]
  },
  {
   "cell_type": "code",
   "execution_count": 55,
   "metadata": {},
   "outputs": [
    {
     "name": "stdout",
     "output_type": "stream",
     "text": [
      "B\n"
     ]
    },
    {
     "data": {
      "text/plain": [
       "{'_B__b': 1}"
      ]
     },
     "execution_count": 55,
     "metadata": {},
     "output_type": "execute_result"
    }
   ],
   "source": [
    "b = B()\n",
    "b.__dict__"
   ]
  },
  {
   "cell_type": "code",
   "execution_count": 57,
   "metadata": {},
   "outputs": [
    {
     "data": {
      "text/plain": [
       "1"
      ]
     },
     "execution_count": 57,
     "metadata": {},
     "output_type": "execute_result"
    }
   ],
   "source": [
    "b._B__b"
   ]
  },
  {
   "cell_type": "code",
   "execution_count": 62,
   "metadata": {},
   "outputs": [
    {
     "data": {
      "text/plain": [
       "(3, 1)"
      ]
     },
     "execution_count": 62,
     "metadata": {},
     "output_type": "execute_result"
    }
   ],
   "source": [
    "import numpy as np\n",
    "\n",
    "a = np.array([1,2,3])\n",
    "\n",
    "np.ma.row_stack(a).shape"
   ]
  },
  {
   "cell_type": "code",
   "execution_count": 61,
   "metadata": {},
   "outputs": [
    {
     "data": {
      "text/plain": [
       "(1, 3)"
      ]
     },
     "execution_count": 61,
     "metadata": {},
     "output_type": "execute_result"
    }
   ],
   "source": [
    "np.ma.column_stack(a).shape"
   ]
  },
  {
   "cell_type": "code",
   "execution_count": 65,
   "metadata": {},
   "outputs": [
    {
     "data": {
      "text/plain": [
       "<memory at 0x12548ff40>"
      ]
     },
     "execution_count": 65,
     "metadata": {},
     "output_type": "execute_result"
    }
   ],
   "source": [
    "a.data"
   ]
  },
  {
   "cell_type": "code",
   "execution_count": 66,
   "metadata": {},
   "outputs": [
    {
     "data": {
      "text/plain": [
       "array([1, 2, 3])"
      ]
     },
     "execution_count": 66,
     "metadata": {},
     "output_type": "execute_result"
    }
   ],
   "source": [
    "np.on"
   ]
  },
  {
   "cell_type": "code",
   "execution_count": null,
   "metadata": {},
   "outputs": [],
   "source": []
  }
 ],
 "metadata": {
  "kernelspec": {
   "display_name": "Python 3",
   "language": "python",
   "name": "python3"
  },
  "language_info": {
   "codemirror_mode": {
    "name": "ipython",
    "version": 3
   },
   "file_extension": ".py",
   "mimetype": "text/x-python",
   "name": "python",
   "nbconvert_exporter": "python",
   "pygments_lexer": "ipython3",
   "version": "3.8.1"
  }
 },
 "nbformat": 4,
 "nbformat_minor": 4
}
